{
 "cells": [
  {
   "cell_type": "markdown",
   "id": "ea5ca030",
   "metadata": {},
   "source": [
    "# EBA3400 Exam\n",
    "\n",
    "## Task 1)  Password valdiation\n",
    "\n",
    "In this task, I followed the SOLID principles, especially the Single Responsibility Principle, rather than making a \"God validation function.\" Splitting up the functionalities of the password validator into multiple functions makes testing each condition easier. A disadvantage of my approach is a much higher time complexity (due to the number of loops)."
   ]
  },
  {
   "cell_type": "code",
   "execution_count": 22,
   "id": "1bc44120",
   "metadata": {},
   "outputs": [
    {
     "name": "stdout",
     "output_type": "stream",
     "text": [
      "Enter password:Password123\n",
      "Valid password\n"
     ]
    }
   ],
   "source": [
    "# Checks if the length of the password is 6 to 12 characters. \n",
    "def length_check(password):\n",
    "    password_length = len(password)\n",
    "    if not (6 <= password_length <= 12):\n",
    "        return False\n",
    "    return True\n",
    "\n",
    "# Checks if at least one character is uppercase \n",
    "def uppercase_check(password):\n",
    "    if not length_check(password):\n",
    "        return False\n",
    "    for char in password:\n",
    "        if char.isupper():\n",
    "            return True\n",
    "    return False\n",
    "\n",
    "# Checks if at least one character is a digit\n",
    "def digit_check(password):\n",
    "    if not uppercase_check(password):\n",
    "        return False\n",
    "    for char in password:\n",
    "        if char.isdigit():\n",
    "            return True\n",
    "    return False\n",
    "\n",
    "# Checks if there are any special characters\n",
    "def special_character_check(password):\n",
    "    if not digit_check(password):\n",
    "        return False\n",
    "    special_characters = list(\"!@#$%^&*()-_=+[]{}|;:'\\\",.<>?\")\n",
    "    for char in password:\n",
    "        for special_char in special_characters:\n",
    "            if special_char in char:\n",
    "                return False\n",
    "    return True\n",
    "\n",
    "# Validates the password by checking the conditions\n",
    "def password_validator(password):\n",
    "    if not special_character_check(password):\n",
    "        print(\"Invalid password\")\n",
    "        return\n",
    "    print(\"Valid password\")\n",
    "\n",
    "\n",
    "password_validator(input(\"Enter password:\"))"
   ]
  },
  {
   "cell_type": "markdown",
   "id": "036728f5",
   "metadata": {},
   "source": [
    "## Task 2)  Data dispersion measurement\n",
    "\n",
    "Again, I decided to separate logic into its own functions. First, my output displayed the wrong answer when I ran the dispersion function. Therefore, after studying the question more, I concluded that each element in the summation must be represented in its absolute form. I hope this was the correct conclusion. "
   ]
  },
  {
   "cell_type": "code",
   "execution_count": 23,
   "id": "5803ab7a",
   "metadata": {},
   "outputs": [
    {
     "name": "stdout",
     "output_type": "stream",
     "text": [
      "(1) list_1 gives a dispersion of 1.33\n",
      "(2) list_2 gives a dispersion of 6.88\n"
     ]
    }
   ],
   "source": [
    "# Returns the average of elements in the list\n",
    "def mean_of_list(number_list):\n",
    "    size = len(number_list)\n",
    "    counter = 0\n",
    "    for number in number_list:\n",
    "        counter += number\n",
    "    return counter / size\n",
    "\n",
    "# Returns the summation part of the calculation\n",
    "def sum_of_list(number_list):\n",
    "    mean = mean_of_list(number_list)\n",
    "    counter = 0\n",
    "    for number in number_list:\n",
    "        x = abs(number - mean)\n",
    "        counter += x\n",
    "    return counter\n",
    "\n",
    "# Returns the dispersion level of the list, rounded to two decimals\n",
    "def dispersion(number_list):\n",
    "    size = len(number_list)\n",
    "    summation = sum_of_list(number_list)\n",
    "    return round(summation / size, 2)\n",
    "\n",
    "\n",
    "list_1 = [4, 1, 4, 1, 3, 5]\n",
    "list_2 = [43, 31, 41, 40, 40, 48, 29, 48, 23, 33]\n",
    "\n",
    "dispersion_1 = dispersion(list_1)\n",
    "dispersion_2 = dispersion(list_2)\n",
    "\n",
    "print(f\"(1) list_1 gives a dispersion of {dispersion_1}\")\n",
    "print(f\"(2) list_2 gives a dispersion of {dispersion_2}\")"
   ]
  },
  {
   "cell_type": "markdown",
   "id": "ef50c8bb",
   "metadata": {},
   "source": [
    "## Task 3)  Airline customer data\n",
    "\n",
    "I had to separate each question into its own code block in this task. This is due to issues with printing information requested from the dataframe variable. \n",
    "I also added another optional way of solving the first question regarding the average age of the customers. "
   ]
  },
  {
   "cell_type": "code",
   "execution_count": 24,
   "id": "1703989b",
   "metadata": {},
   "outputs": [
    {
     "name": "stdout",
     "output_type": "stream",
     "text": [
      "The average age of the customers are 45.9 years old.\n"
     ]
    }
   ],
   "source": [
    "import pandas as pd\n",
    "\n",
    "\n",
    "df = pd.read_csv(\"airline.csv\")\n",
    "\n",
    "#Optional: We could read the value from df[\"Age\"].describe().round(1)\n",
    "average_age = round(df[\"Age\"].mean(), 1)\n",
    "print(f\"The average age of the customers are {average_age} years old.\")"
   ]
  },
  {
   "cell_type": "code",
   "execution_count": 25,
   "id": "5e3eda90",
   "metadata": {},
   "outputs": [
    {
     "data": {
      "text/plain": [
       "Gender\n",
       "Male      5036\n",
       "Female    4964\n",
       "Name: count, dtype: int64"
      ]
     },
     "execution_count": 25,
     "metadata": {},
     "output_type": "execute_result"
    }
   ],
   "source": [
    "df[\"Gender\"].value_counts()"
   ]
  },
  {
   "cell_type": "markdown",
   "id": "ddb1dd87",
   "metadata": {},
   "source": [
    "As we can read from the text provided by performing the function \"value_counts(),\" we can see the gender distribution as 5036 male and 4964 female. "
   ]
  },
  {
   "cell_type": "markdown",
   "id": "b2ec4c43",
   "metadata": {},
   "source": [
    "## Task 4)  Trip planer \n",
    "\n",
    "### 4.1 Bus stop information\n",
    "\n",
    "I added the bus stop information in a dictionary, with the stop ID as the key and coordinates as the value. \n",
    "I also made an extra function for printing the values in the dictionary. "
   ]
  },
  {
   "cell_type": "code",
   "execution_count": 26,
   "id": "8bf05738",
   "metadata": {},
   "outputs": [
    {
     "name": "stdout",
     "output_type": "stream",
     "text": [
      "Location for bus stop 1 is [2, 1]\n",
      "Location for bus stop 2 is [6, 1]\n",
      "Location for bus stop 3 is [5, 3]\n",
      "Location for bus stop 4 is [3, 4]\n",
      "Location for bus stop 5 is [3, 6]\n",
      "Location for bus stop 6 is [5, 7]\n",
      "Location for bus stop 7 is [7, 6]\n"
     ]
    }
   ],
   "source": [
    "bus_stop_dictionary = {\n",
    "    1: [2, 1],\n",
    "    2: [6, 1],\n",
    "    3: [5, 3],\n",
    "    4: [3, 4],\n",
    "    5: [3, 6],\n",
    "    6: [5, 7],\n",
    "    7: [7, 6]\n",
    "}\n",
    "\n",
    "# Prints each key-value pair in the dictionary on separate lines. \n",
    "def print_dictionary(dictionary):\n",
    "    for key in dictionary:\n",
    "        bus_stop = dictionary[key]\n",
    "        print(f\"Location for bus stop {key} is {bus_stop}\")\n",
    "\n",
    "\n",
    "print_dictionary(bus_stop_dictionary)"
   ]
  },
  {
   "cell_type": "markdown",
   "id": "e64eb575",
   "metadata": {},
   "source": [
    "### 4.2 Distance calculation\n",
    "\n",
    "In this task, I made two functions—one for finding the Euclidean distance, and another for printing it. I noticed the coordinates were the same as bus stops 1 and 3. Therefore, I fetched the coordinates from the dictionary created in task 4.1\n",
    "\n",
    "Also, the question never asked to round the number, so I did not. "
   ]
  },
  {
   "cell_type": "code",
   "execution_count": 28,
   "id": "0350b6ed",
   "metadata": {},
   "outputs": [
    {
     "name": "stdout",
     "output_type": "stream",
     "text": [
      "The euclidean distance between bus stop 1 and 3 is 3.605551275463989\n"
     ]
    }
   ],
   "source": [
    "# Finds the euclidean distance between two locations\n",
    "def find_euclidean_distance(loc1, loc2):\n",
    "    x1 = loc1[0]\n",
    "    y1 = loc1[1]\n",
    "    x2 = loc2[0]\n",
    "    y2 = loc2[1]\n",
    "\n",
    "    return (((x2 - x1)**2) + ((y2 - y1)**2)) **0.5\n",
    "\n",
    "# Find the locations by using the stop_ID's as keys to the dictionary created in task 4.1.\n",
    "# Prints the message\n",
    "def euclidean_distance_printer(stop_id_1, stop_id_2):\n",
    "    loc1 = bus_stop_dictionary[stop_id_1]\n",
    "    loc2 = bus_stop_dictionary[stop_id_2]\n",
    "    euclidean_distance = find_euclidean_distance(loc1, loc2)\n",
    "    print(f\"The euclidean distance between bus stop {stop_id_1} and {stop_id_2} is {euclidean_distance}\")\n",
    "\n",
    "\n",
    "euclidean_distance_printer(1, 3)"
   ]
  },
  {
   "cell_type": "markdown",
   "id": "a87e4e7f",
   "metadata": {},
   "source": [
    "### 4.3 Nearest stop\n",
    "\n",
    "I had some extra fun in this task, making two alternative solutions. \n",
    "\n",
    "* Reviewing everything, I realized I could sort the dictionary created in the first function. \n",
    "\n",
    "#### Solution 1)\n",
    "\n",
    "Here, I made some extra functions, which allow me to obtain multiple stops in case some have the same Euclidean distance. I also had to do extra work formatting the message since the bus stop IDs are retrieved as a list."
   ]
  },
  {
   "cell_type": "code",
   "execution_count": 30,
   "id": "9cb09097",
   "metadata": {},
   "outputs": [
    {
     "name": "stdout",
     "output_type": "stream",
     "text": [
      "Enter your coordinate (x):1\n",
      "Enter your coordinate (y):5\n",
      "The nearest stops are Stop: 4 and 5.\n"
     ]
    }
   ],
   "source": [
    "# Uses the input locations to calculate euclidean distance between the user and all bus stops. \n",
    "# Returns a dictionary using the stop_ID as key, and euclidean distance as value. \n",
    "def euclidean_distances_to_dictionary(input_loc):\n",
    "    distances = {}\n",
    "    for key in bus_stop_dictionary:\n",
    "        stop_loc = bus_stop_dictionary[key]\n",
    "        distance = find_euclidean_distance(input_loc, stop_loc)\n",
    "        distances[key] = distance\n",
    "    return distances\n",
    "\n",
    "# This function takes the dictionary created in the previous function, and loops over it.\n",
    "# It uses the minimum value from the dictionary as a counter, to check if the distance is equal or lower.\n",
    "# Returns a list of all the locations closest to the user.\n",
    "def find_nearest_stops(input_loc):\n",
    "    distances = euclidean_distances_to_dictionary(input_loc)\n",
    "    stops = []\n",
    "    counter = min(distances.values())\n",
    "\n",
    "    for distance_key in distances:\n",
    "        distance = distances[distance_key]\n",
    "        if distance <= counter:\n",
    "            stops.append(distance_key)\n",
    "    return stops\n",
    "\n",
    "# Formats the message, adjusting it after how many stops are equally close. \n",
    "def message_formatter(input_loc):\n",
    "    stops = find_nearest_stops(input_loc)\n",
    "    message = \"The nearest \"\n",
    "    stops_length = len(stops)\n",
    "    if stops_length == 1:\n",
    "        message += \"stop is Stop \" + str(stops[0]) + \".\"\n",
    "    elif stops_length > 1:\n",
    "        loop_counter = 0\n",
    "        for stop in stops:\n",
    "            loop_counter += 1\n",
    "            if loop_counter == 1:\n",
    "                message += \"stops are Stop: \" + str(stop)\n",
    "            elif loop_counter == stops_length:\n",
    "                message += \" and \" + str(stop) + \".\"\n",
    "            else:\n",
    "                message += \", \" + str(stop)\n",
    "    return message\n",
    "\n",
    "# Ask the user to input the coordinates, and prints the closest stop(s). \n",
    "def print_nearest_stops():\n",
    "    input_x = input(\"Enter your coordinate (x):\")\n",
    "    input_y = input(\"Enter your coordinate (y):\")\n",
    "    message = message_formatter([float(input_x), float(input_y)])\n",
    "    print(message)\n",
    "\n",
    "\n",
    "print_nearest_stops()"
   ]
  },
  {
   "cell_type": "markdown",
   "id": "1c68c06e",
   "metadata": {},
   "source": [
    "#### Solution 2)\n",
    "\n",
    "A quick solution representing only one of the nearest bus stops. "
   ]
  },
  {
   "cell_type": "code",
   "execution_count": 31,
   "id": "e3003ab9",
   "metadata": {},
   "outputs": [
    {
     "name": "stdout",
     "output_type": "stream",
     "text": [
      "Enter your coordinate (x):1\n",
      "Enter your coordinate (y):5\n",
      "The nearest stop is Stop 4.\n"
     ]
    }
   ],
   "source": [
    "# This function uses a counter with a dummy value. Loops over the bus_stop dictionary created in task 4.1,\n",
    "# And update the nearest_stop variable, if the distance is lower than the counter variable. \n",
    "# Returns the nearest bus stop ID. \n",
    "def alternative_nearest_stop(input_loc):\n",
    "    counter = 10000000\n",
    "    nearest_stop = 0\n",
    "    for key in bus_stop_dictionary:\n",
    "        stop_loc = bus_stop_dictionary[key]\n",
    "        distance = find_euclidean_distance(input_loc, stop_loc)\n",
    "        if distance < counter:\n",
    "            nearest_stop = key\n",
    "            counter = distance\n",
    "    return nearest_stop\n",
    "\n",
    "# Ask the user to input the coordinates, and prints the closest stop(s). \n",
    "def alternative_print_nearest_stop():\n",
    "    input_x = input(\"Enter your coordinate (x):\")\n",
    "    input_y = input(\"Enter your coordinate (y):\")\n",
    "    nearest_stop = alternative_nearest_stop([float(input_x), float(input_y)])\n",
    "    print(f\"The nearest stop is Stop {nearest_stop}.\")\n",
    "\n",
    "\n",
    "alternative_print_nearest_stop()"
   ]
  },
  {
   "cell_type": "markdown",
   "id": "e3fc307e",
   "metadata": {},
   "source": [
    "### 4.4.Estimated travel time\n",
    "\n",
    "I created a dictionary using the ID of the bus stop it departed from and the time it takes to reach the next bus stop as value. \n",
    "\n",
    "Then, I made two functions, one for calculating the estimated time and the other for printing the travel time. "
   ]
  },
  {
   "cell_type": "code",
   "execution_count": null,
   "id": "90fc4f6d",
   "metadata": {},
   "outputs": [],
   "source": [
    "travel_time_dictionary = {\n",
    "    1: find_euclidean_distance([2, 1], [6, 1]) * 2.5,\n",
    "    2: find_euclidean_distance([6, 1], [5, 3]) * 2.5,\n",
    "    3: find_euclidean_distance([5, 3], [3, 4]) * 4,\n",
    "    4: find_euclidean_distance([3, 4], [3, 6]) * 4,\n",
    "    5: find_euclidean_distance([3, 6], [5, 7]) * 4,\n",
    "    6: find_euclidean_distance([5, 7], [7, 6]) * 2.5\n",
    "}\n",
    "\n",
    "# First this function creates a list of all the bus stops between the departure and destination.\n",
    "# Then it loops over the dictionary created above, and again loops over the list created. \n",
    "# Checks if the route ID, is the same as bus stop ID, if so it adds the travel time fetched from the dictionary. \n",
    "def estimated_time(departure, destination):\n",
    "    travel_time = 0\n",
    "    bus_stops = list(range(departure, destination))\n",
    "    for routes in travel_time_dictionary:\n",
    "        for stops in bus_stops:\n",
    "            if routes == stops:\n",
    "                travel_time += travel_time_dictionary[routes]\n",
    "    return travel_time\n",
    "\n",
    "# Ask the user to input departure and destination, and prints the travel time (rounded to 1 decimal). \n",
    "def print_estimated_time():\n",
    "    departure = int(input(\"Departure stop:\"))\n",
    "    destination = int(input(\"Destination stop:\"))\n",
    "    travel_time = round(estimated_time(departure, destination), 1)\n",
    "    print(f\"Estimated bus travel time: {travel_time} min\")\n",
    "\n",
    "\n",
    "print_estimated_time()"
   ]
  },
  {
   "cell_type": "code",
   "execution_count": null,
   "id": "cafd5da1",
   "metadata": {},
   "outputs": [],
   "source": []
  }
 ],
 "metadata": {
  "kernelspec": {
   "display_name": "Python 3 (ipykernel)",
   "language": "python",
   "name": "python3"
  },
  "language_info": {
   "codemirror_mode": {
    "name": "ipython",
    "version": 3
   },
   "file_extension": ".py",
   "mimetype": "text/x-python",
   "name": "python",
   "nbconvert_exporter": "python",
   "pygments_lexer": "ipython3",
   "version": "3.11.5"
  }
 },
 "nbformat": 4,
 "nbformat_minor": 5
}
