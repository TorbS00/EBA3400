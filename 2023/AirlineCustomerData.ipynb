{
 "cells": [
  {
   "cell_type": "code",
   "execution_count": null,
   "metadata": {
    "collapsed": true
   },
   "outputs": [],
   "source": [
    "\n",
    "import pandas as pd\n",
    "\n",
    "\n",
    "df = pd.read_csv(\"airline.csv\")\n",
    "\n",
    "#Optional: We could read the value from df[\"Age\"].describe().round(1)\n",
    "average_age = round(df[\"Age\"].mean(), 1)\n",
    "print(f\"The average age of the customers are {average_age} years old.\")\n",
    "\n",
    "df[\"Gender\"].value_counts()\n",
    "\n",
    "# As we can read from the text provided by performing the function\n",
    "# \"value_counts(),\" we can see the gender distribution\n",
    "# as 5036 male and 4964 female.\n"
   ]
  }
 ],
 "metadata": {
  "kernelspec": {
   "display_name": "Python 3",
   "language": "python",
   "name": "python3"
  },
  "language_info": {
   "codemirror_mode": {
    "name": "ipython",
    "version": 2
   },
   "file_extension": ".py",
   "mimetype": "text/x-python",
   "name": "python",
   "nbconvert_exporter": "python",
   "pygments_lexer": "ipython2",
   "version": "2.7.6"
  }
 },
 "nbformat": 4,
 "nbformat_minor": 0
}